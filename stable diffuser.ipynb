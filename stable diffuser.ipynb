{
  "cells": [
    {
      "cell_type": "markdown",
      "metadata": {
        "id": "xY3jq-f-MB5q"
      },
      "source": [
        "1. Dataset Handling\n",
        "\n",
        "\n",
        "You have images for 8 classes: Rook, Bishop, King,\n",
        "Knight, Pawn, and Queen.\n",
        "\n",
        "Goal: Ensure each class has enough samples for effective generative model training and validation."
      ]
    },
    {
      "cell_type": "markdown",
      "metadata": {
        "id": "TJ5OZebOMY5I"
      },
      "source": [
        "2. Data Preparation Steps"
      ]
    },
    {
      "cell_type": "code",
      "execution_count": 76,
      "metadata": {},
      "outputs": [],
      "source": [
        "#Step 1: Resize Images\n",
        "from PIL import Image\n",
        "import os\n",
        "\n",
        "def is_image_file(file_name):\n",
        "    valid_extensions = ['.jpg', '.jpeg', '.png', '.bmp', '.gif', '.tiff',\".webp\"]\n",
        "    return os.path.splitext(file_name)[1].lower() in valid_extensions\n",
        "\n",
        "def resize_images(input_folders, output_folder, size=(256, 256)):\n",
        "    if not os.path.exists(output_folder):\n",
        "        os.makedirs(output_folder)\n",
        "    \n",
        "    for input_folder in input_folders:\n",
        "        class_name = os.path.basename(input_folder)\n",
        "        class_output_folder = os.path.join(output_folder, class_name)\n",
        "        \n",
        "        if not os.path.exists(class_output_folder):\n",
        "            os.makedirs(class_output_folder)\n",
        "        \n",
        "        for img_name in os.listdir(input_folder):\n",
        "            if not is_image_file(img_name):\n",
        "                print(f\"Skipping non-image file: {img_name}\")\n",
        "                continue\n",
        "            \n",
        "            img_path = os.path.join(input_folder, img_name)\n",
        "            \n",
        "            try:\n",
        "                img = Image.open(img_path)\n",
        "                img = img.resize(size, Image.Resampling.LANCZOS)  # Use LANCZOS for high-quality resizing\n",
        "                img.save(os.path.join(class_output_folder, img_name))\n",
        "            except Exception as e:\n",
        "                print(f\"Error processing {img_name}: {e}\")\n",
        "\n",
        "# Example usage\n",
        "input_folders = [\n",
        "    r\"C:\\Users\\Keshavi\\Downloads\\Chess\\Queen\",\n",
        "    r\"C:\\Users\\Keshavi\\Downloads\\Chess\\Rook\",\n",
        "    r\"C:\\Users\\Keshavi\\Downloads\\Chess\\Bishop\",\n",
        "    r\"C:\\Users\\Keshavi\\Downloads\\Chess\\Knight\",\n",
        "    r\"C:\\Users\\Keshavi\\Downloads\\Chess\\Pawn\",\n",
        "    r\"C:\\Users\\Keshavi\\Downloads\\Chess\\King\"\n",
        "]\n",
        "\n",
        "resized_chess_pieces = r'C:\\\\Users\\\\Keshavi\\\\Downloads\\\\resized_chess_pieces'\n",
        "\n",
        "resize_images(input_folders, resized_chess_pieces, size=(256, 256)) \n"
      ]
    },
    {
      "cell_type": "code",
      "execution_count": 77,
      "metadata": {},
      "outputs": [],
      "source": [
        "#Step 2: Normalize Image Pixel Values\n",
        "import torchvision.transforms as transforms\n",
        "from PIL import Image\n",
        "\n",
        "transform = transforms.Compose([\n",
        "    transforms.Resize((256, 256)),\n",
        "    transforms.ToTensor(),\n",
        "    transforms.Normalize(mean=[0.5, 0.5, 0.5], std=[0.5, 0.5, 0.5]),  # Normalize to [-1, 1]\n",
        "])\n",
        "\n",
        "def load_and_normalize_image(image_path):\n",
        "    image = Image.open(image_path)\n",
        "    image = transform(image)\n",
        "    return image\n"
      ]
    },
    {
      "cell_type": "code",
      "execution_count": 78,
      "metadata": {},
      "outputs": [],
      "source": [
        "import os\n",
        "from sklearn.model_selection import train_test_split\n",
        "import shutil\n",
        "\n",
        "\n"
      ]
    },
    {
      "cell_type": "code",
      "execution_count": 83,
      "metadata": {},
      "outputs": [],
      "source": [
        "import os\n",
        "from sklearn.model_selection import train_test_split\n",
        "import shutil\n",
        "\n",
        "def split_dataset(input_folders, output_folder, test_size=0.2):\n",
        "    os.makedirs(output_folder, exist_ok=True)\n",
        "    \n",
        "    for input_folder in input_folders:\n",
        "        # Create train and validation folders for each class\n",
        "        class_name = os.path.basename(input_folder)  # Get class name from folder name\n",
        "        train_folder = os.path.join(output_folder, 'train', class_name)\n",
        "        val_folder = os.path.join(output_folder, 'val', class_name)\n",
        "        \n",
        "        os.makedirs(train_folder, exist_ok=True)\n",
        "        os.makedirs(val_folder, exist_ok=True)\n",
        "        \n",
        "        # Get all image file paths\n",
        "        images = [os.path.join(input_folder, f) for f in os.listdir(input_folder) if f.endswith(('.jpg', '.jpeg', '.png', '.bmp', '.gif', '.tiff', \".webp\"))]\n",
        "        \n",
        "        # Split the images\n",
        "        train_images, val_images = train_test_split(images, test_size=test_size, random_state=42)\n",
        "\n",
        "        # Move images to the corresponding folders\n",
        "        for image in train_images:\n",
        "            shutil.move(image, os.path.join(train_folder, os.path.basename(image)))\n",
        "        for image in val_images:\n",
        "            shutil.move(image, os.path.join(val_folder, os.path.basename(image)))\n",
        "\n",
        "# Example usage\n",
        "resized_chess_pieces = [\n",
        "    r\"C:\\Users\\Keshavi\\Downloads\\resized_chess_pieces\\King\",\n",
        "    r\"C:\\Users\\Keshavi\\Downloads\\resized_chess_pieces\\Pawn\",\n",
        "    r\"C:\\Users\\Keshavi\\Downloads\\resized_chess_pieces\\Knight\",\n",
        "    r\"C:\\Users\\Keshavi\\Downloads\\resized_chess_pieces\\Bishop\",\n",
        "    r\"C:\\Users\\Keshavi\\Downloads\\resized_chess_pieces\\Rook\",\n",
        "    r\"C:\\Users\\Keshavi\\Downloads\\resized_chess_pieces\\Queen\"\n",
        "]\n",
        "\n",
        "chess_pieces_split = r\"C:\\Users\\Keshavi\\Downloads\\chess_pieces_split\"\n",
        "split_dataset(resized_chess_pieces, chess_pieces_split, test_size=0.2)\n"
      ]
    },
    {
      "cell_type": "code",
      "execution_count": 102,
      "metadata": {},
      "outputs": [
        {
          "name": "stderr",
          "output_type": "stream",
          "text": [
            "c:\\Users\\Keshavi\\AppData\\Local\\Programs\\Python\\Python312\\Lib\\site-packages\\tqdm\\auto.py:21: TqdmWarning: IProgress not found. Please update jupyter and ipywidgets. See https://ipywidgets.readthedocs.io/en/stable/user_install.html\n",
            "  from .autonotebook import tqdm as notebook_tqdm\n"
          ]
        },
        {
          "name": "stdout",
          "output_type": "stream",
          "text": [
            "0.30.3\n"
          ]
        }
      ],
      "source": [
        "import diffusers\n",
        "print(diffusers.__version__)\n"
      ]
    },
    {
      "cell_type": "code",
      "execution_count": 5,
      "metadata": {},
      "outputs": [
        {
          "name": "stderr",
          "output_type": "stream",
          "text": [
            "Couldn't connect to the Hub: (MaxRetryError(\"HTTPSConnectionPool(host='huggingface.co', port=443): Max retries exceeded with url: /api/models/CompVis/stable-diffusion-v1-4 (Caused by SSLError(SSLCertVerificationError(1, '[SSL: CERTIFICATE_VERIFY_FAILED] certificate verify failed: EE certificate key too weak (_ssl.c:1000)')))\"), '(Request ID: 85788cbe-7d18-4f98-947f-0b7cb40d0127)').\n",
            "Will try to load from local cache.\n",
            "Loading pipeline components...: 100%|██████████| 7/7 [00:03<00:00,  1.84it/s]\n",
            "100%|██████████| 50/50 [1:06:30<00:00, 79.80s/it] \n",
            "  6%|▌         | 3/50 [03:42<52:51, 67.47s/it]   "
          ]
        }
      ],
      "source": [
        "#Data Augmentation Using Generative Models\n",
        "#1. Stable Diffusion\n",
        "\n",
        "# Import necessary libraries\n",
        "import os\n",
        "from diffusers import StableDiffusionPipeline\n",
        "\n",
        "def generate_images_stable_diffusion(prompt, output_folder, num_images=5):\n",
        "    # Load the Stable Diffusion model\n",
        "    pipe = StableDiffusionPipeline.from_pretrained(\"CompVis/stable-diffusion-v1-4\")\n",
        "    device = \"cuda\" if torch.cuda.is_available() else \"cpu\"\n",
        "    pipe = pipe.to(device)\n",
        "\n",
        "\n",
        "    for i in range(num_images):\n",
        "        image = pipe(prompt).images[0]\n",
        "        # Save the generated image to the output folder\n",
        "        image.save(f\"{output_folder}/{prompt.replace(' ', '_')}_{i}.png\")\n",
        "\n",
        "# Define the output folder for generated images\n",
        "output_folder = r\"C:\\Users\\Keshavi\\Downloads\\generated_chess_images\"\n",
        "\n",
        "# Ensure the output folder exists\n",
        "os.makedirs(output_folder, exist_ok=True)\n",
        "\n",
        "# List of chess pieces to generate images for\n",
        "chess_pieces = [\"Rook\", \"Bishop\", \"Knight\", \"Pawn\", \"Queen\", \"King\"]\n",
        "\n",
        "# Generate images for each chess piece\n",
        "for piece in chess_pieces:\n",
        "    generate_images_stable_diffusion(f\"A chess {piece}\", output_folder, num_images=5)\n",
        "\n",
        "\n",
        "\n"
      ]
    }
  ],
  "metadata": {
    "colab": {
      "provenance": []
    },
    "kernelspec": {
      "display_name": "Python 3",
      "name": "python3"
    },
    "language_info": {
      "codemirror_mode": {
        "name": "ipython",
        "version": 3
      },
      "file_extension": ".py",
      "mimetype": "text/x-python",
      "name": "python",
      "nbconvert_exporter": "python",
      "pygments_lexer": "ipython3",
      "version": "3.12.1"
    }
  },
  "nbformat": 4,
  "nbformat_minor": 0
}
